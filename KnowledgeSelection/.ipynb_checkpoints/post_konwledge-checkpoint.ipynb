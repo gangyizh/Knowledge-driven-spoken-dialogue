{
 "cells": [
  {
   "cell_type": "code",
   "execution_count": 1,
   "id": "5e214062",
   "metadata": {},
   "outputs": [],
   "source": [
    "import json\n",
    "import re\n",
    "from copy import deepcopy\n",
    "from post_konwledge import PostKnowledge"
   ]
  },
  {
   "cell_type": "code",
   "execution_count": 2,
   "id": "8f165fa4",
   "metadata": {},
   "outputs": [
    {
     "name": "stdout",
     "output_type": "stream",
     "text": [
      "length of kb: 38054\n",
      "tail entity count: 15006\n",
      "length of kb: 512\n",
      "length of kb: 1197\n",
      "length of kb: 32067\n"
     ]
    }
   ],
   "source": [
    "post_processer = PostKnowledge()"
   ]
  },
  {
   "cell_type": "code",
   "execution_count": 3,
   "id": "718421dc",
   "metadata": {},
   "outputs": [],
   "source": [
    "path = 'test_know_result.json'\n",
    "\n",
    "with open(path, 'r') as f:\n",
    "    r = json.load(f)\n",
    "\n",
    "for bidx in range(300):\n",
    "    key = str(bidx+1)\n",
    "    know = r[key]\n",
    "    new_know = post_processer.run(know)                   \n",
    "    r[key] = new_know\n",
    "    \n",
    "\n",
    "# ### \n",
    "# print(\"open chat indexes:\", open_chats)\n",
    "# for bidx in range(3000):\n",
    "#     key = str(bidx+1)\n",
    "#     if key in open_chats:\n",
    "#         del r[key]['attrs']\n",
    "        \n",
    "    \n",
    "with open('test_know_post_result.json','w', encoding=\"UTF-8\") as f:\n",
    "        json.dump(r, f, ensure_ascii=False)\n",
    "        "
   ]
  },
  {
   "cell_type": "code",
   "execution_count": null,
   "id": "fc43b0b6",
   "metadata": {},
   "outputs": [],
   "source": []
  },
  {
   "cell_type": "code",
   "execution_count": null,
   "id": "d4ff6b1f",
   "metadata": {},
   "outputs": [],
   "source": []
  }
 ],
 "metadata": {
  "kernelspec": {
   "display_name": "Python 3 (ipykernel)",
   "language": "python",
   "name": "python3"
  },
  "language_info": {
   "codemirror_mode": {
    "name": "ipython",
    "version": 3
   },
   "file_extension": ".py",
   "mimetype": "text/x-python",
   "name": "python",
   "nbconvert_exporter": "python",
   "pygments_lexer": "ipython3",
   "version": "3.9.7"
  }
 },
 "nbformat": 4,
 "nbformat_minor": 5
}
