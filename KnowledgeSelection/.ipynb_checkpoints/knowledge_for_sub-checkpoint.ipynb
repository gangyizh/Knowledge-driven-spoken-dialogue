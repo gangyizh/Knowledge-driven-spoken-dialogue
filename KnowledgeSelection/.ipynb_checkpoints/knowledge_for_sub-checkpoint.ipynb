{
 "cells": [
  {
   "cell_type": "code",
   "execution_count": 1,
   "id": "af6ba8d7",
   "metadata": {},
   "outputs": [],
   "source": [
    "import json\n",
    "        "
   ]
  },
  {
   "cell_type": "code",
   "execution_count": 2,
   "id": "8dcaa3e5",
   "metadata": {},
   "outputs": [],
   "source": [
    "with open('test_know_post_result.json','r', encoding=\"UTF-8\") as f:\n",
    "    mp = json.load(f)"
   ]
  },
  {
   "cell_type": "code",
   "execution_count": 3,
   "id": "e07c6973",
   "metadata": {},
   "outputs": [],
   "source": [
    "know_sub = {}\n",
    "\n",
    "for i in range(300):\n",
    "    key = str(i+1)\n",
    "    know_sub[key] ={}\n",
    "    know_sub[key]['attrs'] = mp[key]['attrs']\n",
    "    know_sub[key]['message']= \"\"\n",
    "    for t in know_sub[key]['attrs']:\n",
    "        if \"know_reverse\" in t:\n",
    "            del t[\"know_reverse\"]\n",
    "\n",
    "for i in range(300,400):\n",
    "    key = str(i+1)\n",
    "    know_sub[key] ={}\n",
    "    "
   ]
  },
  {
   "cell_type": "code",
   "execution_count": 4,
   "id": "a3ad1d9e",
   "metadata": {},
   "outputs": [],
   "source": [
    "with open('test_konw_sub_result.json','w', encoding=\"UTF-8\") as f:\n",
    "        json.dump(know_sub, f, ensure_ascii=False)"
   ]
  },
  {
   "cell_type": "code",
   "execution_count": null,
   "id": "f33eff74",
   "metadata": {},
   "outputs": [],
   "source": []
  },
  {
   "cell_type": "code",
   "execution_count": null,
   "id": "4157a278",
   "metadata": {},
   "outputs": [],
   "source": []
  }
 ],
 "metadata": {
  "kernelspec": {
   "display_name": "Python 3 (ipykernel)",
   "language": "python",
   "name": "python3"
  },
  "language_info": {
   "codemirror_mode": {
    "name": "ipython",
    "version": 3
   },
   "file_extension": ".py",
   "mimetype": "text/x-python",
   "name": "python",
   "nbconvert_exporter": "python",
   "pygments_lexer": "ipython3",
   "version": "3.9.7"
  }
 },
 "nbformat": 4,
 "nbformat_minor": 5
}
