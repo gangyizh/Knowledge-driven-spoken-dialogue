{
 "cells": [
  {
   "cell_type": "code",
   "execution_count": 1,
   "id": "4e34515a",
   "metadata": {},
   "outputs": [],
   "source": [
    "import json\n",
    "from time import strptime\n",
    "from utils import load_kb, get_tail_kb, get_attrname2entities"
   ]
  },
  {
   "cell_type": "code",
   "execution_count": 2,
   "id": "c5456e40",
   "metadata": {},
   "outputs": [],
   "source": [
    "def is_num_str(x):\n",
    "    if x is None or len(x)==0:\n",
    "        return True\n",
    "    flag = True\n",
    "    for t in x.split('.'):\n",
    "        if not t.isdigit():\n",
    "            flag = False\n",
    "    return flag\n",
    "\n",
    "def is_date_str(datestr):\n",
    "    pattern = ('%Y年%m月%d日', '%Y-%m-%d', '%y年%m月%d日', '%y-%m-%d','%m月%d日','%Y年')\n",
    "    for i in pattern:\n",
    "        try:\n",
    "            ret = strptime(datestr, i)\n",
    "            if ret:\n",
    "                return True\n",
    "        except:\n",
    "            continue\n",
    "    return False\n",
    "\n",
    "def is_entity_str(x):\n",
    "    if x is None or len(x)==0:\n",
    "        return False\n",
    "    if is_num_str(x):\n",
    "        return False\n",
    "    if  is_date_str(x):\n",
    "        return False\n",
    "    return True"
   ]
  },
  {
   "cell_type": "code",
   "execution_count": 3,
   "id": "0923ca22",
   "metadata": {},
   "outputs": [
    {
     "name": "stdout",
     "output_type": "stream",
     "text": [
      "length of kb: 38054\n",
      "tail entity count: 31167\n"
     ]
    }
   ],
   "source": [
    "\n",
    "kb, entity_mapping = load_kb('../data/final_data/new_kg.json')\n",
    "tail_kb = get_tail_kb(kb, entity_mapping)\n",
    "attrname2entities = get_attrname2entities(kb)"
   ]
  },
  {
   "cell_type": "code",
   "execution_count": 4,
   "id": "c94cca01",
   "metadata": {},
   "outputs": [],
   "source": [
    "A = [t for t in kb.keys() if is_entity_str(t)==False]"
   ]
  },
  {
   "cell_type": "code",
   "execution_count": 5,
   "id": "2193a12a",
   "metadata": {},
   "outputs": [],
   "source": [
    "def is_real_entity(kb, x):\n",
    "    ### music\n",
    "    attrnames = ['音乐风格','制作人','发行时间','歌曲时长','所属专辑','谱曲','填词']\n",
    "    for attrname in attrnames:\n",
    "        if attrname in kb[x].keys():\n",
    "            return True\n",
    "    ### book\n",
    "    attrnames = ['作者','出版社','价格','出版时间']\n",
    "    for attrname in attrnames:\n",
    "        if attrname in kb[x].keys():\n",
    "            return True\n",
    "    attrnames = ['主演','导演','制片地区','色彩']\n",
    "    for attrname in attrnames:\n",
    "        if attrname in kb[x].keys():\n",
    "            return True\n",
    "    return  False\n",
    "    \n",
    "    \n",
    "B = [t for t in A if is_real_entity(kb,t)]"
   ]
  },
  {
   "cell_type": "code",
   "execution_count": 6,
   "id": "7e62635b",
   "metadata": {},
   "outputs": [
    {
     "name": "stdout",
     "output_type": "stream",
     "text": [
      "['31', '1701', '3', '80', '1952', '35', '9', '119', '2012', '1999', '20', '16', '2046', '0', '8', '2008', '2006', '13', '300', '5', '23', '2002', '224', '1941', '21', '1', '90', '25', '1906', '1040', '1965', '2001年9月11日', '52', '42', '15']\n"
     ]
    }
   ],
   "source": [
    "print(B)"
   ]
  },
  {
   "cell_type": "code",
   "execution_count": 10,
   "id": "9c389311",
   "metadata": {},
   "outputs": [],
   "source": [
    "C = [t for t in kb if len(t)==1 and is_real_entity(kb,t)]"
   ]
  },
  {
   "cell_type": "code",
   "execution_count": 11,
   "id": "6567150c",
   "metadata": {},
   "outputs": [
    {
     "name": "stdout",
     "output_type": "stream",
     "text": [
      "['葵', '槿', '叶', '燕', '扇', '芦', '雨', '梨', '兰', '韭', '枣', '杏', '花', '榴', '榆', '竹', '蚊', '柽', '画', '雪', '蝉', '句', '赢', '家', 'w', '3', '弟', '9', '鸟', '羊', '0', '8', 'O', '春', '5', 'W', '1', '她', '飘', '满', '？', '一', '爱']\n"
     ]
    }
   ],
   "source": [
    "print(C)"
   ]
  },
  {
   "cell_type": "code",
   "execution_count": 12,
   "id": "5a285014",
   "metadata": {},
   "outputs": [],
   "source": [
    "special_word = B + C "
   ]
  },
  {
   "cell_type": "code",
   "execution_count": 13,
   "id": "ce2bd822",
   "metadata": {},
   "outputs": [],
   "source": [
    "special_word = sorted(list(set(special_word)))"
   ]
  },
  {
   "cell_type": "code",
   "execution_count": 14,
   "id": "bd53e730",
   "metadata": {},
   "outputs": [
    {
     "name": "stdout",
     "output_type": "stream",
     "text": [
      "['0', '1', '1040', '119', '13', '15', '16', '1701', '1906', '1941', '1952', '1965', '1999', '20', '2001年9月11日', '2002', '2006', '2008', '2012', '2046', '21', '224', '23', '25', '3', '300', '31', '35', '42', '5', '52', '8', '80', '9', '90', 'O', 'W', 'w', '一', '兰', '句', '叶', '她', '家', '弟', '扇', '春', '杏', '枣', '柽', '梨', '榆', '榴', '槿', '满', '燕', '爱', '画', '竹', '羊', '芦', '花', '葵', '蚊', '蝉', '赢', '雨', '雪', '韭', '飘', '鸟', '？']\n"
     ]
    }
   ],
   "source": [
    "print(special_word)"
   ]
  },
  {
   "cell_type": "code",
   "execution_count": null,
   "id": "3236e9c9",
   "metadata": {},
   "outputs": [],
   "source": []
  },
  {
   "cell_type": "code",
   "execution_count": null,
   "id": "f2ef4282",
   "metadata": {},
   "outputs": [],
   "source": []
  }
 ],
 "metadata": {
  "kernelspec": {
   "display_name": "Python 3 (ipykernel)",
   "language": "python",
   "name": "python3"
  },
  "language_info": {
   "codemirror_mode": {
    "name": "ipython",
    "version": 3
   },
   "file_extension": ".py",
   "mimetype": "text/x-python",
   "name": "python",
   "nbconvert_exporter": "python",
   "pygments_lexer": "ipython3",
   "version": "3.9.7"
  }
 },
 "nbformat": 4,
 "nbformat_minor": 5
}
