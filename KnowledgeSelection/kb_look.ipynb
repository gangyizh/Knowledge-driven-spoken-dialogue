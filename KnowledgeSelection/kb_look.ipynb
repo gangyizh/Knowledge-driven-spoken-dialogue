{
 "cells": [
  {
   "cell_type": "code",
   "execution_count": 7,
   "id": "89d38d48",
   "metadata": {},
   "outputs": [],
   "source": [
    "import json\n",
    "import random\n",
    "from itertools import chain\n",
    "from collections import defaultdict,Counter\n",
    "import re\n",
    "from utils import load_kb, get_tail_kb\n",
    "\n",
    "random.seed(1)"
   ]
  },
  {
   "cell_type": "code",
   "execution_count": 2,
   "id": "ec8ff511",
   "metadata": {},
   "outputs": [],
   "source": [
    "def get_attrname2entities(kb):\n",
    "    attrname2entities = {}\n",
    "    for entity,attrs in kb.items():\n",
    "        for attrname,attrvalue in attrs.items():\n",
    "            if attrname not in attrname2entities:\n",
    "                attrname2entities[attrname] = set()\n",
    "            attrname2entities[attrname].add(entity)\n",
    "    \n",
    "    for attrname in attrname2entities:\n",
    "        attrname2entities[attrname] = sorted(list(attrname2entities[attrname]))\n",
    "    return attrname2entities"
   ]
  },
  {
   "cell_type": "code",
   "execution_count": 3,
   "id": "049eaa6e",
   "metadata": {},
   "outputs": [],
   "source": [
    "\n",
    "def get_forbid_entity(kb):\n",
    "    entities = list(kb.keys())\n",
    "    attrnames = list(chain(*[list(kb[t].keys()) for t in kb.keys() ]))\n",
    "    attrnames = set(attrnames)\n",
    "    ea_entities = set(entities)&attrnames\n",
    "    return ea_entities"
   ]
  },
  {
   "cell_type": "code",
   "execution_count": 4,
   "id": "71ee40bc",
   "metadata": {
    "scrolled": true
   },
   "outputs": [
    {
     "name": "stdout",
     "output_type": "stream",
     "text": [
      "length of kb: 38054\n",
      "tail entity count: 31167\n"
     ]
    }
   ],
   "source": [
    "kb, entity_mapping = load_kb('../data/final_data/new_kg.json')\n",
    "tail_kb = get_tail_kb(kb, entity_mapping)\n",
    "attrname2entities = get_attrname2entities(kb)"
   ]
  },
  {
   "cell_type": "code",
   "execution_count": 29,
   "id": "f3f4e5c3",
   "metadata": {},
   "outputs": [],
   "source": [
    "x = \"紫胸鱼属(Stethojuli\""
   ]
  },
  {
   "cell_type": "code",
   "execution_count": 31,
   "id": "15c7a252",
   "metadata": {},
   "outputs": [
    {
     "data": {
      "text/plain": [
       "'紫胸鱼属'"
      ]
     },
     "execution_count": 31,
     "metadata": {},
     "output_type": "execute_result"
    }
   ],
   "source": [
    " re.sub('[(（][a-zA-Z]+[)）]|[(（][a-zA-Z]+', '', x)"
   ]
  },
  {
   "cell_type": "code",
   "execution_count": 37,
   "id": "25c51ccf",
   "metadata": {},
   "outputs": [
    {
     "name": "stdout",
     "output_type": "stream",
     "text": [
      "tail entity count: 15676\n",
      "True\n"
     ]
    }
   ],
   "source": [
    "c_tail_kb = get_complete_tail_kb(kb, entity_mapping)"
   ]
  },
  {
   "cell_type": "code",
   "execution_count": 8,
   "id": "88d233ef",
   "metadata": {},
   "outputs": [
    {
     "ename": "KeyError",
     "evalue": "'紫胸鱼属(Stethojuli'",
     "output_type": "error",
     "traceback": [
      "\u001b[0;31m---------------------------------------------------------------------------\u001b[0m",
      "\u001b[0;31mKeyError\u001b[0m                                  Traceback (most recent call last)",
      "\u001b[0;32m/tmp/ipykernel_21029/2586417046.py\u001b[0m in \u001b[0;36m<module>\u001b[0;34m\u001b[0m\n\u001b[0;32m----> 1\u001b[0;31m \u001b[0mc_tail_kb\u001b[0m\u001b[0;34m[\u001b[0m\u001b[0;34m\"紫胸鱼属(Stethojuli\"\u001b[0m\u001b[0;34m]\u001b[0m\u001b[0;34m\u001b[0m\u001b[0;34m\u001b[0m\u001b[0m\n\u001b[0m",
      "\u001b[0;31mKeyError\u001b[0m: '紫胸鱼属(Stethojuli'"
     ]
    }
   ],
   "source": [
    "c_tail_kb[\"紫胸鱼属(Stethojuli\"]"
   ]
  },
  {
   "cell_type": "code",
   "execution_count": null,
   "id": "a6c3f2ad",
   "metadata": {},
   "outputs": [],
   "source": []
  },
  {
   "cell_type": "code",
   "execution_count": null,
   "id": "c9635538",
   "metadata": {},
   "outputs": [],
   "source": []
  },
  {
   "cell_type": "code",
   "execution_count": 5,
   "id": "1865acd7",
   "metadata": {},
   "outputs": [],
   "source": [
    "from rank_bm25 import BM25Okapi\n",
    "all_kb_entity = list(kb.keys()|entity_mapping.keys()|tail_kb.keys())\n",
    "tokenized_corpus = [w for w in all_kb_entity]\n",
    "\n",
    "bm25 = BM25Okapi(tokenized_corpus)"
   ]
  },
  {
   "cell_type": "code",
   "execution_count": 20,
   "id": "086d969e",
   "metadata": {},
   "outputs": [
    {
     "data": {
      "text/plain": [
       "{'歌曲时长': ['3分52秒'],\n",
       " 'MV导演': ['黄中平'],\n",
       " '歌曲语言': ['普通话'],\n",
       " '音乐风格': ['流行，抒情'],\n",
       " '编曲': ['吕绍淳'],\n",
       " '歌曲原唱': ['S.H.E'],\n",
       " '发行公司': ['华研国际'],\n",
       " '中文名称': ['五月天'],\n",
       " '所属专辑': ['Play'],\n",
       " '谱曲': ['郑楠'],\n",
       " '填词': ['陈震， 施人诚'],\n",
       " '简介': ['《五月天》是华语女子团体S.H.E演唱的一首浪漫抒情歌，这首歌由陈震、 施人诚填词， 郑楠谱曲， 吕绍淳编曲，收录于 S.H.E2007年05月11日发行的专辑《 PLAY》中 。 同年，这首歌获得了香港新城国语力歌曲奖 。'],\n",
       " '发行时间': ['2007年5月11日'],\n",
       " 'MV主演': ['Selina，陈信宏']}"
      ]
     },
     "execution_count": 20,
     "metadata": {},
     "output_type": "execute_result"
    }
   ],
   "source": [
    "kb['五月天']"
   ]
  },
  {
   "cell_type": "code",
   "execution_count": 6,
   "id": "e705f617",
   "metadata": {},
   "outputs": [
    {
     "data": {
      "text/plain": [
       "{'类型': ['恐怖'],\n",
       " '中文名': ['31'],\n",
       " '上映时间': ['2015'],\n",
       " '简介': ['电影《31》是由罗布·赞比执导， 伊丽莎白·戴利 、雪莉·穆恩·赞比、丹尼尔·洛巴克主演的惊悚恐怖电影。::;《31》讲述了万圣节前一天，五名狂欢节员工被绑架挟持到一个称为“肃杀世界”的孤立院子，在万圣节时，他们会被扔进一个名叫“31”的虐待狂的游戏中。'],\n",
       " '编剧': ['罗布·赞比'],\n",
       " '主演': ['伊丽莎白·戴利，雪莉·穆恩·赞比，Torsten Voges，Bari Suzuki'],\n",
       " '对白语言': ['英语'],\n",
       " '制片地区': ['美国'],\n",
       " '导演': ['罗布·赞比'],\n",
       " '色彩': ['彩色']}"
      ]
     },
     "execution_count": 6,
     "metadata": {},
     "output_type": "execute_result"
    }
   ],
   "source": [
    "kb['31']"
   ]
  },
  {
   "cell_type": "code",
   "execution_count": 7,
   "id": "b4c7edf6",
   "metadata": {},
   "outputs": [
    {
     "data": {
      "text/plain": [
       "{'类型': ['角色'],\n",
       " '种族': ['矮人', '长须'],\n",
       " '家族': ['都林家族'],\n",
       " '父亲': ['纳因一世'],\n",
       " '子嗣': ['梭林一世'],\n",
       " '继承人': ['梭林一世']}"
      ]
     },
     "execution_count": 7,
     "metadata": {},
     "output_type": "execute_result"
    }
   ],
   "source": [
    "kb['瑟莱因一世']"
   ]
  },
  {
   "cell_type": "code",
   "execution_count": 8,
   "id": "41941c71",
   "metadata": {},
   "outputs": [
    {
     "data": {
      "text/plain": [
       "{'评分': ['7.7'],\n",
       " '作者': ['张良均'],\n",
       " '译者': ['王路', '谭立云', '苏剑林'],\n",
       " '出版社': ['机械工业出版社'],\n",
       " '出版时间': ['2016-01-01'],\n",
       " '价格': ['69.00']}"
      ]
     },
     "execution_count": 8,
     "metadata": {},
     "output_type": "execute_result"
    }
   ],
   "source": [
    "kb['Python数据分析与挖掘实战']"
   ]
  },
  {
   "cell_type": "code",
   "execution_count": 9,
   "id": "9e59e23a",
   "metadata": {},
   "outputs": [
    {
     "data": {
      "text/plain": [
       "{'介绍': ['胸鳍的内面没有鳞片。  整体的色彩是银色或微白色的， 时常淡褐色或橄榄色在上侧面上。  在侧边上的每个鳞片有一个褐色斑点形成纵列。  鳍均匀地是清澈的到些微淡黄色。  新鲜的标本在侧边上有分散的褐色斑纹。  经过眼的一条黑色的横带也可能是明显可见的。'],\n",
       " '界': ['动物界'],\n",
       " '门': ['脊索动物门'],\n",
       " '纲': ['辐鳍鱼纲'],\n",
       " '目': ['鲈形目'],\n",
       " '科': ['裸颊鲷科'],\n",
       " '属': ['白鱲属(Gymnocraniu']}"
      ]
     },
     "execution_count": 9,
     "metadata": {},
     "output_type": "execute_result"
    }
   ],
   "source": [
    "kb['奥氏裸顶鲷']"
   ]
  },
  {
   "cell_type": "code",
   "execution_count": 10,
   "id": "bcede644",
   "metadata": {},
   "outputs": [
    {
     "data": {
      "text/plain": [
       "{'音乐风格': ['流行', '抒情'],\n",
       " '歌曲语言': ['国语'],\n",
       " '歌曲时长': ['05:01'],\n",
       " '所属专辑': ['丝路'],\n",
       " '编曲': ['王力宏'],\n",
       " '歌曲原唱': ['梁静茹'],\n",
       " '谱曲': ['王力宏'],\n",
       " '中文名称': ['丝路'],\n",
       " '简介': ['《丝路》是华语流行乐女歌手梁静茹演唱的一首慢板抒情歌，由五月天阿信填词，王力宏谱曲，收录于梁静茹2005年9月16日发行的个人专辑《丝路》中，作为专辑的第一主打歌。2006年，这首歌获得了KKBOX数位音乐风云榜年度十大金曲、第6届全球华语歌曲排行榜二十大最受欢迎金曲和最佳作词奖。'],\n",
       " '填词': ['阿信'],\n",
       " '发行时间': ['2005年09月16日']}"
      ]
     },
     "execution_count": 10,
     "metadata": {},
     "output_type": "execute_result"
    }
   ],
   "source": [
    "kb['丝路（梁静茹演唱的歌曲）']"
   ]
  },
  {
   "cell_type": "code",
   "execution_count": 11,
   "id": "4c84bb70",
   "metadata": {},
   "outputs": [
    {
     "data": {
      "text/plain": [
       "{'周边景点': ['水立方嬉水乐园', '鸟巢（国家体育场）', '中国科学技术馆', '鸟巢3D美术馆', '水立方（国家游泳中心）'],\n",
       " '简介': ['玲珑塔是奥林匹克公园中的标志性建筑，高132米。曾作为多功能演播中心使用。入夜，在变化的灯光下闪现出七彩的颜色，极为美丽。'],\n",
       " '地址': ['北京市朝阳区湖景东路(近地铁亚运村站)'],\n",
       " '开放什么游玩时间': ['全天开放'],\n",
       " '电话': ['010-58422277'],\n",
       " '门票': ['无需门票。景区只限外部参观。']}"
      ]
     },
     "execution_count": 11,
     "metadata": {},
     "output_type": "execute_result"
    }
   ],
   "source": [
    "kb['玲珑塔']"
   ]
  },
  {
   "cell_type": "code",
   "execution_count": 21,
   "id": "2806bdeb",
   "metadata": {},
   "outputs": [
    {
     "data": {
      "text/plain": [
       "{'中文名称': ['？'],\n",
       " '专辑语言': ['普通话，粤语，英语'],\n",
       " '音乐风格': ['流行'],\n",
       " '唱片公司': ['EAS Music / 环球唱片'],\n",
       " '发行地区': ['香港，台湾'],\n",
       " '专辑类型': ['录音室专辑'],\n",
       " '简介': ['《？》是 陈奕迅2011年11月11日发行的专辑，该专辑收录13首歌曲，包含10首国语歌曲、2首粤语歌曲及1首英文歌曲，由 方大同、 蓝又时、 陈焕仁、 陈小霞等担任制作人。 2012年11月2日，专辑歌曲《 孤独患者》年获得“第十二届全球华语歌曲排榜——年度二十大金曲”奖。'],\n",
       " '专辑歌手': ['陈奕迅'],\n",
       " '获得奖项': ['第十二届全球华语歌曲排行榜年度二十大金曲'],\n",
       " '制作人': ['方大同， 蓝又时， 陈焕仁， 陈小霞'],\n",
       " '曲目数量': ['13'],\n",
       " '发行时间': ['2011年11月11日']}"
      ]
     },
     "execution_count": 21,
     "metadata": {},
     "output_type": "execute_result"
    }
   ],
   "source": [
    "kb['？']"
   ]
  },
  {
   "cell_type": "code",
   "execution_count": 12,
   "id": "a6578882",
   "metadata": {},
   "outputs": [
    {
     "data": {
      "text/plain": [
       "{'朝代': ['唐代'],\n",
       " '作者': ['杜甫'],\n",
       " '诗词全文第一句最后一句背诵': ['西山白雪三城戍，南浦清江万里桥。海内风尘诸弟隔，天涯涕泪一身遥。惟将迟暮供多病，未有涓埃答圣朝。跨马出郊时极目，不堪人事日萧条。'],\n",
       " '作品简介': ['《野望》是唐代诗人杜甫创作的一首七言律诗。诗的首联写野望时所见的西山和锦江景色；颔联由野望联想到兄弟的离散和孤身浪迹天涯；颈联抒写迟暮多病不能报效国家之感；尾联写野望的方式和对家国的深沉忧虑。这首诗由景入题，忧时忧国，语言淳朴，感情深沉。']}"
      ]
     },
     "execution_count": 12,
     "metadata": {},
     "output_type": "execute_result"
    }
   ],
   "source": [
    "kb['野望']"
   ]
  },
  {
   "cell_type": "code",
   "execution_count": 13,
   "id": "124b8112",
   "metadata": {},
   "outputs": [
    {
     "data": {
      "text/plain": [
       "{'作者': ['西潮']}"
      ]
     },
     "execution_count": 13,
     "metadata": {},
     "output_type": "execute_result"
    }
   ],
   "source": [
    "tail_kb['蒋梦麟']"
   ]
  },
  {
   "cell_type": "code",
   "execution_count": 14,
   "id": "2bad15b0",
   "metadata": {},
   "outputs": [
    {
     "data": {
      "text/plain": [
       "{'评分': ['8.8'],\n",
       " '作者': ['爱伦·坡'],\n",
       " '译者': ['陈良廷', '徐汝春'],\n",
       " '出版社': ['人民文学出版社'],\n",
       " '出版时间': ['1998-02-01'],\n",
       " '价格': ['17.00']}"
      ]
     },
     "execution_count": 14,
     "metadata": {},
     "output_type": "execute_result"
    }
   ],
   "source": [
    "kb['爱伦·坡短篇小说集']"
   ]
  },
  {
   "cell_type": "code",
   "execution_count": 16,
   "id": "0047f377",
   "metadata": {},
   "outputs": [
    {
     "data": {
      "text/plain": [
       "{'作者': ['春怨 其一']}"
      ]
     },
     "execution_count": 16,
     "metadata": {},
     "output_type": "execute_result"
    }
   ],
   "source": [
    "tail_kb['益嘉运']"
   ]
  },
  {
   "cell_type": "code",
   "execution_count": 17,
   "id": "20006d24",
   "metadata": {},
   "outputs": [
    {
     "data": {
      "text/plain": [
       "{'亚门': ['脊椎动物亚门'],\n",
       " '简介': ['辐鳍鱼纲（学名Actinopterygii）指的是 鳍呈 放射状的鱼（条 鳍鱼 Ray-finned Fishes）。 辐鳍鱼是 脊椎动物中最具优势的种类，共有超过31,000种，遍及 淡水及 海水环境。'],\n",
       " '二名法': ['Klein, 1885'],\n",
       " '纲': ['辐鳍鱼纲'],\n",
       " '界': ['动物界'],\n",
       " '英文名称': ['Ray-finned Fishes'],\n",
       " '拉丁学名': ['Actinopterygii'],\n",
       " '中文学名': ['辐鳍鱼纲'],\n",
       " '门': ['脊索动物门']}"
      ]
     },
     "execution_count": 17,
     "metadata": {},
     "output_type": "execute_result"
    }
   ],
   "source": [
    "kb['辐鳍鱼纲']"
   ]
  },
  {
   "cell_type": "code",
   "execution_count": 22,
   "id": "5e3b5d1d",
   "metadata": {},
   "outputs": [
    {
     "data": {
      "text/plain": [
       "{'类型': ['动作'],\n",
       " '简介': ['动作奇幻类型的电影《暴龙》（Tyrannosaurus Rex）由罗布·赞比导演，雪莉·穆恩·赞比主演。'],\n",
       " '主演': ['雪莉·穆恩·赞比'],\n",
       " '对白语言': ['英语'],\n",
       " '中文名': ['暴龙'],\n",
       " '外文名': ['Tyrannosaurus Rex'],\n",
       " '制片地区': ['美国'],\n",
       " '色彩': ['彩电'],\n",
       " '导演': ['罗布·赞比']}"
      ]
     },
     "execution_count": 22,
     "metadata": {},
     "output_type": "execute_result"
    }
   ],
   "source": [
    "kb['暴龙']"
   ]
  },
  {
   "cell_type": "code",
   "execution_count": 24,
   "id": "0a42fcc1",
   "metadata": {},
   "outputs": [
    {
     "data": {
      "text/plain": [
       "{'时间': ['明朝'], '作者': ['唐寅'], '诗句': ['此生甘兮走昊阊，辱皆无剩有狂\\u3000。百年障眼书千卷，四海资身笔一枝。']}"
      ]
     },
     "execution_count": 24,
     "metadata": {},
     "output_type": "execute_result"
    }
   ],
   "source": [
    "kb['']"
   ]
  },
  {
   "cell_type": "code",
   "execution_count": 6,
   "id": "baa4570a",
   "metadata": {},
   "outputs": [
    {
     "ename": "KeyError",
     "evalue": "'紫胸鱼属(Stethojuli'",
     "output_type": "error",
     "traceback": [
      "\u001b[0;31m---------------------------------------------------------------------------\u001b[0m",
      "\u001b[0;31mKeyError\u001b[0m                                  Traceback (most recent call last)",
      "\u001b[0;32m/tmp/ipykernel_21029/3711828346.py\u001b[0m in \u001b[0;36m<module>\u001b[0;34m\u001b[0m\n\u001b[0;32m----> 1\u001b[0;31m \u001b[0mkb\u001b[0m\u001b[0;34m[\u001b[0m\u001b[0;34m'紫胸鱼属(Stethojuli'\u001b[0m\u001b[0;34m]\u001b[0m\u001b[0;34m\u001b[0m\u001b[0;34m\u001b[0m\u001b[0m\n\u001b[0m",
      "\u001b[0;31mKeyError\u001b[0m: '紫胸鱼属(Stethojuli'"
     ]
    }
   ],
   "source": [
    "kb['紫胸鱼属(Stethojuli']"
   ]
  },
  {
   "cell_type": "code",
   "execution_count": null,
   "id": "aa593241",
   "metadata": {},
   "outputs": [],
   "source": []
  },
  {
   "cell_type": "code",
   "execution_count": null,
   "id": "3a8610e9",
   "metadata": {},
   "outputs": [],
   "source": []
  },
  {
   "cell_type": "code",
   "execution_count": null,
   "id": "a8831577",
   "metadata": {},
   "outputs": [],
   "source": []
  },
  {
   "cell_type": "code",
   "execution_count": null,
   "id": "47a6ea6a",
   "metadata": {},
   "outputs": [],
   "source": []
  },
  {
   "cell_type": "code",
   "execution_count": null,
   "id": "dabb69eb",
   "metadata": {},
   "outputs": [],
   "source": []
  },
  {
   "cell_type": "code",
   "execution_count": 62,
   "id": "98972996",
   "metadata": {},
   "outputs": [],
   "source": [
    "def get_cwd_bm25_model(kb, attrname2entities):\n",
    "    cwd_list = attrname2entities[\"释义\"]\n",
    "    \n",
    "    cwd_value_list = [kb[x][\"释义\"][0] for x in cwd_list]\n",
    "    value2cwds = defaultdict(list)\n",
    "    for x in cwd_list:\n",
    "        value2cwds[kb[x][\"释义\"][0]].append(x)\n",
    "    \n",
    "    all_kb_entity = cwd_value_list\n",
    "    tokenized_corpus = [w for w in all_kb_entity]\n",
    "\n",
    "    bm25 = BM25Okapi(tokenized_corpus)\n",
    "    return bm25, cwd_value_list, value2cwds"
   ]
  },
  {
   "cell_type": "code",
   "execution_count": 63,
   "id": "8dbc43e0",
   "metadata": {},
   "outputs": [],
   "source": [
    "bm25, cwd_value_list, value2cwds = get_cwd_bm25_model(kb, attrname2entities)"
   ]
  },
  {
   "cell_type": "code",
   "execution_count": 69,
   "id": "1badadb9",
   "metadata": {},
   "outputs": [
    {
     "name": "stdout",
     "output_type": "stream",
     "text": [
      "['安份守己', '安分守已']\n"
     ]
    }
   ],
   "source": [
    "x = \"形容规矩老实，守本分，不做违法的事的成成语有些，你知道吗？\"\n",
    "x = re.findall(\"形容(.+?)\\成语\",x)[0]\n",
    "scores = bm25.get_scores(x)\n",
    "\n",
    "best_docs = sorted(list(zip(tokenized_corpus, scores)), key=lambda x: x[1], reverse=True)[:10]\n",
    "select_value = best_docs[0][0]\n",
    "print(value2cwds[select_value])"
   ]
  }
 ],
 "metadata": {
  "kernelspec": {
   "display_name": "Python 3 (ipykernel)",
   "language": "python",
   "name": "python3"
  },
  "language_info": {
   "codemirror_mode": {
    "name": "ipython",
    "version": 3
   },
   "file_extension": ".py",
   "mimetype": "text/x-python",
   "name": "python",
   "nbconvert_exporter": "python",
   "pygments_lexer": "ipython3",
   "version": "3.9.7"
  }
 },
 "nbformat": 4,
 "nbformat_minor": 5
}
