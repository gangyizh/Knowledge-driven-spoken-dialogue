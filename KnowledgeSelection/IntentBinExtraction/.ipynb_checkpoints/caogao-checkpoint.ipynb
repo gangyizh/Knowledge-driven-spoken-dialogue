{
 "cells": [
  {
   "cell_type": "code",
   "execution_count": 1,
   "id": "32fc395f",
   "metadata": {},
   "outputs": [],
   "source": [
    "import numpy as np\n",
    "import pandas as pd\n",
    "from transformers import AutoModel,AutoTokenizer"
   ]
  },
  {
   "cell_type": "code",
   "execution_count": 2,
   "id": "51626ab6",
   "metadata": {},
   "outputs": [],
   "source": [
    "tokenizer = AutoTokenizer.from_pretrained('../pretrain_model/chinese-roberta-wwm-ext/')"
   ]
  },
  {
   "cell_type": "code",
   "execution_count": 8,
   "id": "cf5dc02f",
   "metadata": {},
   "outputs": [],
   "source": [
    "text1 = \"123\"\n",
    "text2 = \"124\"\n",
    "text3 = \"564\"\n",
    "\n",
    "text4 = text2 + tokenizer.sep_token + text3"
   ]
  },
  {
   "cell_type": "code",
   "execution_count": 9,
   "id": "fba41608",
   "metadata": {},
   "outputs": [],
   "source": [
    "inputs = tokenizer(text1, text4)"
   ]
  },
  {
   "cell_type": "code",
   "execution_count": 10,
   "id": "4e540e5b",
   "metadata": {},
   "outputs": [
    {
     "data": {
      "text/plain": [
       "'[CLS] 123 [SEP] 124 [SEP] 564 [SEP]'"
      ]
     },
     "execution_count": 10,
     "metadata": {},
     "output_type": "execute_result"
    }
   ],
   "source": [
    "tokenizer.decode(inputs['input_ids'])"
   ]
  },
  {
   "cell_type": "code",
   "execution_count": null,
   "id": "42ddd938",
   "metadata": {},
   "outputs": [],
   "source": []
  }
 ],
 "metadata": {
  "kernelspec": {
   "display_name": "Python 3 (ipykernel)",
   "language": "python",
   "name": "python3"
  },
  "language_info": {
   "codemirror_mode": {
    "name": "ipython",
    "version": 3
   },
   "file_extension": ".py",
   "mimetype": "text/x-python",
   "name": "python",
   "nbconvert_exporter": "python",
   "pygments_lexer": "ipython3",
   "version": "3.9.7"
  }
 },
 "nbformat": 4,
 "nbformat_minor": 5
}
